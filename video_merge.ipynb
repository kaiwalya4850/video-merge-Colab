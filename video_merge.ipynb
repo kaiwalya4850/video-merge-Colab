{
 "cells": [
  {
   "cell_type": "code",
   "execution_count": null,
   "metadata": {
    "colab": {
     "base_uri": "https://localhost:8080/"
    },
    "id": "2w45ujcPg1ss",
    "outputId": "8274565d-bb62-44c8-e6be-f13b3fcc80d1"
   },
   "outputs": [],
   "source": [
    "from google.colab import drive\n",
    "drive.mount('/content/drive')     # Mount with your drive"
   ]
  },
  {
   "cell_type": "code",
   "execution_count": null,
   "metadata": {
    "colab": {
     "base_uri": "https://localhost:8080/"
    },
    "id": "6vRdkLZ-g8mN",
    "outputId": "0f091044-bb3e-4839-d8fe-2edc0d9e595e"
   },
   "outputs": [],
   "source": [
    "# Navigate to the folder in which you have stored all the video files #\n",
    "\n",
    "import os\n",
    "os.environ['KAGGLE_CONFIG_DIR'] = \"/content/drive/My Drive/\"\n",
    "%cd /content/drive/My Drive/"
   ]
  },
  {
   "cell_type": "code",
   "execution_count": null,
   "metadata": {
    "colab": {
     "base_uri": "https://localhost:8080/"
    },
    "id": "I9nbzK6phPFl",
    "outputId": "5cc6ed75-1fbf-46df-c8dc-e03c9f8e033b"
   },
   "outputs": [],
   "source": [
    "!pip install moviepy  # package required to merge video"
   ]
  },
  {
   "cell_type": "code",
   "execution_count": null,
   "metadata": {
    "colab": {
     "base_uri": "https://localhost:8080/"
    },
    "id": "uQoAid1PpNdZ",
    "outputId": "fedb0bdc-89b2-4228-93d3-1ce5148aebb0"
   },
   "outputs": [],
   "source": [
    "%tensorflow_version 2.x         # Use tf 2 for GPU\n",
    "import tensorflow as tf\n",
    "import timeit\n",
    "from moviepy.editor import VideoFileClip, concatenate_videoclips\n",
    " \n",
    "\n",
    "# Check if GPU is being used #\n",
    "device_name = tf.test.gpu_device_name()\n",
    "if device_name != '/device:GPU:0':\n",
    "  print(\n",
    "      '\\n\\nThis error most likely means that this notebook is not '\n",
    "      'configured to use a GPU.  Change this in Notebook Settings via the '\n",
    "      'command palette (cmd/ctrl-shift-P) or the Edit menu.\\n\\n')\n",
    "  raise SystemError('GPU device not found')\n",
    "\n",
    "\n",
    "\n",
    "# Main code #\n",
    "# I am merging 2 clips. If you want to merge more, define clip3, clip4... and add it into list #\n",
    "clip1 = VideoFileClip(\"1.mp4\")\n",
    "clip2 = VideoFileClip(\"2.mp4\")\n",
    "final_clip = concatenate_videoclips([clip1,clip2])   # Add more in this list\n",
    "final_clip.write_videofile(\"my_concatenation.mp4\")  # Will be stored on your drive\n",
    "\n"
   ]
  }
 ],
 "metadata": {
  "accelerator": "GPU",
  "colab": {
   "name": "video_merge.ipynb",
   "provenance": []
  },
  "kernelspec": {
   "display_name": "Python 3",
   "language": "python",
   "name": "python3"
  },
  "language_info": {
   "codemirror_mode": {
    "name": "ipython",
    "version": 3
   },
   "file_extension": ".py",
   "mimetype": "text/x-python",
   "name": "python",
   "nbconvert_exporter": "python",
   "pygments_lexer": "ipython3",
   "version": "3.6.5"
  }
 },
 "nbformat": 4,
 "nbformat_minor": 1
}
